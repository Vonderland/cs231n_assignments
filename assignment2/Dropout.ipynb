{
 "cells": [
  {
   "cell_type": "markdown",
   "metadata": {},
   "source": [
    "# Dropout\n",
    "Dropout [1] is a technique for regularizing neural networks by randomly setting some features to zero during the forward pass. In this exercise you will implement a dropout layer and modify your fully-connected network to optionally use dropout.\n",
    "\n",
    "[1] Geoffrey E. Hinton et al, \"Improving neural networks by preventing co-adaptation of feature detectors\", arXiv 2012"
   ]
  },
  {
   "cell_type": "code",
   "execution_count": 1,
   "metadata": {},
   "outputs": [],
   "source": [
    "# As usual, a bit of setup\n",
    "from __future__ import print_function\n",
    "import time\n",
    "import numpy as np\n",
    "import matplotlib.pyplot as plt\n",
    "from cs231n.classifiers.fc_net import *\n",
    "from cs231n.data_utils import get_CIFAR10_data\n",
    "from cs231n.gradient_check import eval_numerical_gradient, eval_numerical_gradient_array\n",
    "from cs231n.solver import Solver\n",
    "\n",
    "%matplotlib inline\n",
    "plt.rcParams['figure.figsize'] = (10.0, 8.0) # set default size of plots\n",
    "plt.rcParams['image.interpolation'] = 'nearest'\n",
    "plt.rcParams['image.cmap'] = 'gray'\n",
    "\n",
    "# for auto-reloading external modules\n",
    "# see http://stackoverflow.com/questions/1907993/autoreload-of-modules-in-ipython\n",
    "%load_ext autoreload\n",
    "%autoreload 2\n",
    "\n",
    "def rel_error(x, y):\n",
    "  \"\"\" returns relative error \"\"\"\n",
    "  return np.max(np.abs(x - y) / (np.maximum(1e-8, np.abs(x) + np.abs(y))))"
   ]
  },
  {
   "cell_type": "code",
   "execution_count": 2,
   "metadata": {},
   "outputs": [
    {
     "name": "stdout",
     "output_type": "stream",
     "text": [
      "Will load from local drive.\n",
      "X_train:  (49000, 3, 32, 32)\n",
      "y_train:  (49000,)\n",
      "X_val:  (1000, 3, 32, 32)\n",
      "y_val:  (1000,)\n",
      "X_test:  (1000, 3, 32, 32)\n",
      "y_test:  (1000,)\n"
     ]
    }
   ],
   "source": [
    "# Load the (preprocessed) CIFAR10 data.\n",
    "\n",
    "data = get_CIFAR10_data()\n",
    "for k, v in data.items():\n",
    "  print('%s: ' % k, v.shape)"
   ]
  },
  {
   "cell_type": "markdown",
   "metadata": {},
   "source": [
    "# Dropout forward pass\n",
    "In the file `cs231n/layers.py`, implement the forward pass for dropout. Since dropout behaves differently during training and testing, make sure to implement the operation for both modes.\n",
    "\n",
    "Once you have done so, run the cell below to test your implementation."
   ]
  },
  {
   "cell_type": "code",
   "execution_count": 3,
   "metadata": {},
   "outputs": [
    {
     "name": "stdout",
     "output_type": "stream",
     "text": [
      "Running tests with p =  0.3\n",
      "Mean of input:  10.000207878477502\n",
      "Mean of train-time output:  9.98526577051765\n",
      "Mean of test-time output:  10.000207878477502\n",
      "Fraction of train-time output set to zero:  0.300876\n",
      "Fraction of test-time output set to zero:  0.0\n",
      "\n",
      "Running tests with p =  0.6\n",
      "Mean of input:  10.000207878477502\n",
      "Mean of train-time output:  10.035153558044966\n",
      "Mean of test-time output:  10.000207878477502\n",
      "Fraction of train-time output set to zero:  0.598632\n",
      "Fraction of test-time output set to zero:  0.0\n",
      "\n",
      "Running tests with p =  0.75\n",
      "Mean of input:  10.000207878477502\n",
      "Mean of train-time output:  10.021625749126565\n",
      "Mean of test-time output:  10.000207878477502\n",
      "Fraction of train-time output set to zero:  0.749504\n",
      "Fraction of test-time output set to zero:  0.0\n",
      "\n"
     ]
    }
   ],
   "source": [
    "np.random.seed(231)\n",
    "x = np.random.randn(500, 500) + 10\n",
    "\n",
    "for p in [0.3, 0.6, 0.75]:\n",
    "  out, _ = dropout_forward(x, {'mode': 'train', 'p': p})\n",
    "  out_test, _ = dropout_forward(x, {'mode': 'test', 'p': p})\n",
    "\n",
    "  print('Running tests with p = ', p)\n",
    "  print('Mean of input: ', x.mean())\n",
    "  print('Mean of train-time output: ', out.mean())\n",
    "  print('Mean of test-time output: ', out_test.mean())\n",
    "  print('Fraction of train-time output set to zero: ', (out == 0).mean())\n",
    "  print('Fraction of test-time output set to zero: ', (out_test == 0).mean())\n",
    "  print()"
   ]
  },
  {
   "cell_type": "markdown",
   "metadata": {},
   "source": [
    "# Dropout backward pass\n",
    "In the file `cs231n/layers.py`, implement the backward pass for dropout. After doing so, run the following cell to numerically gradient-check your implementation."
   ]
  },
  {
   "cell_type": "code",
   "execution_count": 7,
   "metadata": {},
   "outputs": [
    {
     "name": "stdout",
     "output_type": "stream",
     "text": [
      "dx relative error:  1.8929048652720146e-11\n"
     ]
    }
   ],
   "source": [
    "np.random.seed(231)\n",
    "x = np.random.randn(10, 10) + 10\n",
    "dout = np.random.randn(*x.shape)\n",
    "\n",
    "dropout_param = {'mode': 'train', 'p': 0.8, 'seed': 123}\n",
    "out, cache = dropout_forward(x, dropout_param)\n",
    "dx = dropout_backward(dout, cache)\n",
    "dx_num = eval_numerical_gradient_array(lambda xx: dropout_forward(xx, dropout_param)[0], x, dout)\n",
    "\n",
    "print('dx relative error: ', rel_error(dx, dx_num))"
   ]
  },
  {
   "cell_type": "markdown",
   "metadata": {},
   "source": [
    "# Fully-connected nets with Dropout\n",
    "In the file `cs231n/classifiers/fc_net.py`, modify your implementation to use dropout. Specificially, if the constructor the the net receives a nonzero value for the `dropout` parameter, then the net should add dropout immediately after every ReLU nonlinearity. After doing so, run the following to numerically gradient-check your implementation."
   ]
  },
  {
   "cell_type": "code",
   "execution_count": 8,
   "metadata": {},
   "outputs": [
    {
     "name": "stdout",
     "output_type": "stream",
     "text": [
      "Running check with dropout =  0\n",
      "Initial loss:  2.3004790897684924\n",
      "W1 relative error: 1.48e-07\n",
      "W2 relative error: 2.21e-05\n",
      "W3 relative error: 3.53e-07\n",
      "b1 relative error: 5.38e-09\n",
      "b2 relative error: 2.09e-09\n",
      "b3 relative error: 5.80e-11\n",
      "\n",
      "Running check with dropout =  0.25\n",
      "Initial loss:  2.3016482157750753\n",
      "W1 relative error: 6.96e-07\n",
      "W2 relative error: 5.01e-06\n",
      "W3 relative error: 2.96e-07\n",
      "b1 relative error: 1.48e-08\n",
      "b2 relative error: 1.72e-09\n",
      "b3 relative error: 1.32e-10\n",
      "\n",
      "Running check with dropout =  0.5\n",
      "Initial loss:  2.294963257976082\n",
      "W1 relative error: 1.20e-07\n",
      "W2 relative error: 5.54e-07\n",
      "W3 relative error: 1.48e-06\n",
      "b1 relative error: 3.30e-09\n",
      "b2 relative error: 4.40e-09\n",
      "b3 relative error: 1.25e-10\n",
      "\n"
     ]
    }
   ],
   "source": [
    "np.random.seed(231)\n",
    "N, D, H1, H2, C = 2, 15, 20, 30, 10\n",
    "X = np.random.randn(N, D)\n",
    "y = np.random.randint(C, size=(N,))\n",
    "\n",
    "for dropout in [0, 0.25, 0.5]:\n",
    "  print('Running check with dropout = ', dropout)\n",
    "  model = FullyConnectedNet([H1, H2], input_dim=D, num_classes=C,\n",
    "                            weight_scale=5e-2, dtype=np.float64,\n",
    "                            dropout=dropout, seed=123)\n",
    "\n",
    "  loss, grads = model.loss(X, y)\n",
    "  print('Initial loss: ', loss)\n",
    "\n",
    "  for name in sorted(grads):\n",
    "    f = lambda _: model.loss(X, y)[0]\n",
    "    grad_num = eval_numerical_gradient(f, model.params[name], verbose=False, h=1e-5)\n",
    "    print('%s relative error: %.2e' % (name, rel_error(grad_num, grads[name])))\n",
    "  print()"
   ]
  },
  {
   "cell_type": "markdown",
   "metadata": {},
   "source": [
    "# Regularization experiment\n",
    "As an experiment, we will train a pair of two-layer networks on 500 training examples: one will use no dropout, and one will use a dropout probability of 0.75. We will then visualize the training and validation accuracies of the two networks over time."
   ]
  },
  {
   "cell_type": "code",
   "execution_count": 17,
   "metadata": {
    "scrolled": false
   },
   "outputs": [
    {
     "name": "stdout",
     "output_type": "stream",
     "text": [
      "0\n",
      "(Iteration 1 / 400) loss: 7.856643\n",
      "(Epoch 0 / 80) train acc: 0.260000; val_acc: 0.184000\n",
      "(Epoch 1 / 80) train acc: 0.416000; val_acc: 0.258000\n",
      "(Epoch 2 / 80) train acc: 0.482000; val_acc: 0.276000\n",
      "(Epoch 3 / 80) train acc: 0.532000; val_acc: 0.277000\n",
      "(Epoch 4 / 80) train acc: 0.600000; val_acc: 0.271000\n",
      "(Epoch 5 / 80) train acc: 0.708000; val_acc: 0.299000\n",
      "(Epoch 6 / 80) train acc: 0.722000; val_acc: 0.282000\n",
      "(Epoch 7 / 80) train acc: 0.832000; val_acc: 0.255000\n",
      "(Epoch 8 / 80) train acc: 0.878000; val_acc: 0.269000\n",
      "(Epoch 9 / 80) train acc: 0.902000; val_acc: 0.275000\n",
      "(Epoch 10 / 80) train acc: 0.888000; val_acc: 0.261000\n",
      "(Epoch 11 / 80) train acc: 0.926000; val_acc: 0.278000\n",
      "(Epoch 12 / 80) train acc: 0.960000; val_acc: 0.302000\n",
      "(Epoch 13 / 80) train acc: 0.964000; val_acc: 0.306000\n",
      "(Epoch 14 / 80) train acc: 0.966000; val_acc: 0.310000\n",
      "(Epoch 15 / 80) train acc: 0.978000; val_acc: 0.290000\n",
      "(Epoch 16 / 80) train acc: 0.980000; val_acc: 0.307000\n",
      "(Epoch 17 / 80) train acc: 0.982000; val_acc: 0.309000\n",
      "(Epoch 18 / 80) train acc: 0.994000; val_acc: 0.319000\n",
      "(Epoch 19 / 80) train acc: 0.990000; val_acc: 0.313000\n",
      "(Epoch 20 / 80) train acc: 0.990000; val_acc: 0.311000\n",
      "(Iteration 101 / 400) loss: 0.000313\n",
      "(Epoch 21 / 80) train acc: 0.992000; val_acc: 0.308000\n",
      "(Epoch 22 / 80) train acc: 0.986000; val_acc: 0.304000\n",
      "(Epoch 23 / 80) train acc: 0.990000; val_acc: 0.313000\n",
      "(Epoch 24 / 80) train acc: 0.998000; val_acc: 0.310000\n",
      "(Epoch 25 / 80) train acc: 0.996000; val_acc: 0.319000\n",
      "(Epoch 26 / 80) train acc: 0.992000; val_acc: 0.318000\n",
      "(Epoch 27 / 80) train acc: 0.994000; val_acc: 0.310000\n",
      "(Epoch 28 / 80) train acc: 0.994000; val_acc: 0.308000\n",
      "(Epoch 29 / 80) train acc: 0.998000; val_acc: 0.311000\n",
      "(Epoch 30 / 80) train acc: 0.990000; val_acc: 0.313000\n",
      "(Epoch 31 / 80) train acc: 0.968000; val_acc: 0.310000\n",
      "(Epoch 32 / 80) train acc: 0.958000; val_acc: 0.286000\n",
      "(Epoch 33 / 80) train acc: 0.980000; val_acc: 0.290000\n",
      "(Epoch 34 / 80) train acc: 0.990000; val_acc: 0.317000\n",
      "(Epoch 35 / 80) train acc: 0.962000; val_acc: 0.310000\n",
      "(Epoch 36 / 80) train acc: 0.994000; val_acc: 0.301000\n",
      "(Epoch 37 / 80) train acc: 0.986000; val_acc: 0.297000\n",
      "(Epoch 38 / 80) train acc: 0.992000; val_acc: 0.287000\n",
      "(Epoch 39 / 80) train acc: 0.988000; val_acc: 0.280000\n",
      "(Epoch 40 / 80) train acc: 0.986000; val_acc: 0.285000\n",
      "(Iteration 201 / 400) loss: 0.022701\n",
      "(Epoch 41 / 80) train acc: 0.998000; val_acc: 0.293000\n",
      "(Epoch 42 / 80) train acc: 0.986000; val_acc: 0.302000\n",
      "(Epoch 43 / 80) train acc: 1.000000; val_acc: 0.306000\n",
      "(Epoch 44 / 80) train acc: 0.996000; val_acc: 0.306000\n",
      "(Epoch 45 / 80) train acc: 1.000000; val_acc: 0.309000\n",
      "(Epoch 46 / 80) train acc: 1.000000; val_acc: 0.286000\n",
      "(Epoch 47 / 80) train acc: 1.000000; val_acc: 0.286000\n",
      "(Epoch 48 / 80) train acc: 1.000000; val_acc: 0.288000\n",
      "(Epoch 49 / 80) train acc: 1.000000; val_acc: 0.288000\n",
      "(Epoch 50 / 80) train acc: 1.000000; val_acc: 0.288000\n",
      "(Epoch 51 / 80) train acc: 1.000000; val_acc: 0.289000\n",
      "(Epoch 52 / 80) train acc: 1.000000; val_acc: 0.292000\n",
      "(Epoch 53 / 80) train acc: 1.000000; val_acc: 0.294000\n",
      "(Epoch 54 / 80) train acc: 1.000000; val_acc: 0.295000\n",
      "(Epoch 55 / 80) train acc: 1.000000; val_acc: 0.295000\n",
      "(Epoch 56 / 80) train acc: 1.000000; val_acc: 0.295000\n",
      "(Epoch 57 / 80) train acc: 1.000000; val_acc: 0.296000\n",
      "(Epoch 58 / 80) train acc: 1.000000; val_acc: 0.296000\n",
      "(Epoch 59 / 80) train acc: 1.000000; val_acc: 0.296000\n",
      "(Epoch 60 / 80) train acc: 1.000000; val_acc: 0.295000\n",
      "(Iteration 301 / 400) loss: 0.000025\n",
      "(Epoch 61 / 80) train acc: 1.000000; val_acc: 0.295000\n",
      "(Epoch 62 / 80) train acc: 1.000000; val_acc: 0.295000\n",
      "(Epoch 63 / 80) train acc: 1.000000; val_acc: 0.295000\n",
      "(Epoch 64 / 80) train acc: 1.000000; val_acc: 0.295000\n",
      "(Epoch 65 / 80) train acc: 1.000000; val_acc: 0.295000\n",
      "(Epoch 66 / 80) train acc: 1.000000; val_acc: 0.295000\n",
      "(Epoch 67 / 80) train acc: 1.000000; val_acc: 0.295000\n",
      "(Epoch 68 / 80) train acc: 1.000000; val_acc: 0.295000\n",
      "(Epoch 69 / 80) train acc: 1.000000; val_acc: 0.295000\n",
      "(Epoch 70 / 80) train acc: 1.000000; val_acc: 0.295000\n",
      "(Epoch 71 / 80) train acc: 1.000000; val_acc: 0.295000\n",
      "(Epoch 72 / 80) train acc: 1.000000; val_acc: 0.295000\n",
      "(Epoch 73 / 80) train acc: 1.000000; val_acc: 0.295000\n",
      "(Epoch 74 / 80) train acc: 1.000000; val_acc: 0.295000\n",
      "(Epoch 75 / 80) train acc: 1.000000; val_acc: 0.294000\n",
      "(Epoch 76 / 80) train acc: 1.000000; val_acc: 0.294000\n",
      "(Epoch 77 / 80) train acc: 1.000000; val_acc: 0.294000\n",
      "(Epoch 78 / 80) train acc: 1.000000; val_acc: 0.294000\n",
      "(Epoch 79 / 80) train acc: 1.000000; val_acc: 0.294000\n",
      "(Epoch 80 / 80) train acc: 1.000000; val_acc: 0.294000\n",
      "0.75\n",
      "(Iteration 1 / 400) loss: 7.478964\n",
      "(Epoch 0 / 80) train acc: 0.242000; val_acc: 0.202000\n",
      "(Epoch 1 / 80) train acc: 0.416000; val_acc: 0.248000\n",
      "(Epoch 2 / 80) train acc: 0.536000; val_acc: 0.268000\n",
      "(Epoch 3 / 80) train acc: 0.614000; val_acc: 0.258000\n",
      "(Epoch 4 / 80) train acc: 0.712000; val_acc: 0.286000\n",
      "(Epoch 5 / 80) train acc: 0.758000; val_acc: 0.261000\n",
      "(Epoch 6 / 80) train acc: 0.732000; val_acc: 0.238000\n",
      "(Epoch 7 / 80) train acc: 0.852000; val_acc: 0.302000\n",
      "(Epoch 8 / 80) train acc: 0.866000; val_acc: 0.279000\n",
      "(Epoch 9 / 80) train acc: 0.918000; val_acc: 0.275000\n",
      "(Epoch 10 / 80) train acc: 0.936000; val_acc: 0.293000\n",
      "(Epoch 11 / 80) train acc: 0.940000; val_acc: 0.290000\n",
      "(Epoch 12 / 80) train acc: 0.970000; val_acc: 0.292000\n",
      "(Epoch 13 / 80) train acc: 0.972000; val_acc: 0.282000\n",
      "(Epoch 14 / 80) train acc: 0.960000; val_acc: 0.296000\n",
      "(Epoch 15 / 80) train acc: 0.964000; val_acc: 0.307000\n",
      "(Epoch 16 / 80) train acc: 0.988000; val_acc: 0.317000\n",
      "(Epoch 17 / 80) train acc: 0.970000; val_acc: 0.316000\n",
      "(Epoch 18 / 80) train acc: 0.980000; val_acc: 0.311000\n",
      "(Epoch 19 / 80) train acc: 0.990000; val_acc: 0.315000\n",
      "(Epoch 20 / 80) train acc: 0.976000; val_acc: 0.319000\n",
      "(Iteration 101 / 400) loss: 0.113914\n",
      "(Epoch 21 / 80) train acc: 0.954000; val_acc: 0.289000\n",
      "(Epoch 22 / 80) train acc: 0.970000; val_acc: 0.308000\n",
      "(Epoch 23 / 80) train acc: 0.952000; val_acc: 0.294000\n",
      "(Epoch 24 / 80) train acc: 0.942000; val_acc: 0.307000\n",
      "(Epoch 25 / 80) train acc: 0.970000; val_acc: 0.328000\n",
      "(Epoch 26 / 80) train acc: 0.960000; val_acc: 0.271000\n",
      "(Epoch 27 / 80) train acc: 0.972000; val_acc: 0.288000\n",
      "(Epoch 28 / 80) train acc: 0.972000; val_acc: 0.313000\n",
      "(Epoch 29 / 80) train acc: 0.962000; val_acc: 0.318000\n",
      "(Epoch 30 / 80) train acc: 0.956000; val_acc: 0.317000\n",
      "(Epoch 31 / 80) train acc: 0.946000; val_acc: 0.302000\n",
      "(Epoch 32 / 80) train acc: 0.926000; val_acc: 0.304000\n",
      "(Epoch 33 / 80) train acc: 0.976000; val_acc: 0.305000\n",
      "(Epoch 34 / 80) train acc: 0.986000; val_acc: 0.317000\n",
      "(Epoch 35 / 80) train acc: 0.984000; val_acc: 0.315000\n",
      "(Epoch 36 / 80) train acc: 0.984000; val_acc: 0.312000\n",
      "(Epoch 37 / 80) train acc: 0.996000; val_acc: 0.301000\n",
      "(Epoch 38 / 80) train acc: 0.998000; val_acc: 0.298000\n",
      "(Epoch 39 / 80) train acc: 0.994000; val_acc: 0.307000\n",
      "(Epoch 40 / 80) train acc: 0.994000; val_acc: 0.313000\n",
      "(Iteration 201 / 400) loss: 0.003421\n",
      "(Epoch 41 / 80) train acc: 0.994000; val_acc: 0.302000\n",
      "(Epoch 42 / 80) train acc: 0.992000; val_acc: 0.306000\n",
      "(Epoch 43 / 80) train acc: 0.974000; val_acc: 0.298000\n",
      "(Epoch 44 / 80) train acc: 0.990000; val_acc: 0.297000\n",
      "(Epoch 45 / 80) train acc: 0.992000; val_acc: 0.301000\n",
      "(Epoch 46 / 80) train acc: 0.986000; val_acc: 0.314000\n",
      "(Epoch 47 / 80) train acc: 0.992000; val_acc: 0.327000\n",
      "(Epoch 48 / 80) train acc: 0.990000; val_acc: 0.327000\n",
      "(Epoch 49 / 80) train acc: 0.990000; val_acc: 0.325000\n",
      "(Epoch 50 / 80) train acc: 0.994000; val_acc: 0.304000\n",
      "(Epoch 51 / 80) train acc: 0.994000; val_acc: 0.311000\n",
      "(Epoch 52 / 80) train acc: 0.994000; val_acc: 0.324000\n",
      "(Epoch 53 / 80) train acc: 0.992000; val_acc: 0.294000\n",
      "(Epoch 54 / 80) train acc: 0.984000; val_acc: 0.290000\n",
      "(Epoch 55 / 80) train acc: 0.996000; val_acc: 0.310000\n",
      "(Epoch 56 / 80) train acc: 0.992000; val_acc: 0.311000\n",
      "(Epoch 57 / 80) train acc: 0.994000; val_acc: 0.324000\n",
      "(Epoch 58 / 80) train acc: 0.998000; val_acc: 0.325000\n",
      "(Epoch 59 / 80) train acc: 1.000000; val_acc: 0.314000\n",
      "(Epoch 60 / 80) train acc: 0.998000; val_acc: 0.310000\n",
      "(Iteration 301 / 400) loss: 0.008628\n",
      "(Epoch 61 / 80) train acc: 1.000000; val_acc: 0.313000\n",
      "(Epoch 62 / 80) train acc: 1.000000; val_acc: 0.317000\n",
      "(Epoch 63 / 80) train acc: 1.000000; val_acc: 0.321000\n"
     ]
    },
    {
     "name": "stdout",
     "output_type": "stream",
     "text": [
      "(Epoch 64 / 80) train acc: 1.000000; val_acc: 0.319000\n",
      "(Epoch 65 / 80) train acc: 1.000000; val_acc: 0.318000\n",
      "(Epoch 66 / 80) train acc: 1.000000; val_acc: 0.318000\n",
      "(Epoch 67 / 80) train acc: 1.000000; val_acc: 0.320000\n",
      "(Epoch 68 / 80) train acc: 1.000000; val_acc: 0.322000\n",
      "(Epoch 69 / 80) train acc: 1.000000; val_acc: 0.324000\n",
      "(Epoch 70 / 80) train acc: 1.000000; val_acc: 0.324000\n",
      "(Epoch 71 / 80) train acc: 1.000000; val_acc: 0.324000\n",
      "(Epoch 72 / 80) train acc: 1.000000; val_acc: 0.324000\n",
      "(Epoch 73 / 80) train acc: 1.000000; val_acc: 0.324000\n",
      "(Epoch 74 / 80) train acc: 1.000000; val_acc: 0.324000\n",
      "(Epoch 75 / 80) train acc: 1.000000; val_acc: 0.324000\n",
      "(Epoch 76 / 80) train acc: 1.000000; val_acc: 0.324000\n",
      "(Epoch 77 / 80) train acc: 1.000000; val_acc: 0.324000\n",
      "(Epoch 78 / 80) train acc: 1.000000; val_acc: 0.324000\n",
      "(Epoch 79 / 80) train acc: 1.000000; val_acc: 0.325000\n",
      "(Epoch 80 / 80) train acc: 1.000000; val_acc: 0.325000\n"
     ]
    }
   ],
   "source": [
    "# Train two identical nets, one with dropout and one without\n",
    "np.random.seed(231)\n",
    "num_train = 500\n",
    "small_data = {\n",
    "  'X_train': data['X_train'][:num_train],\n",
    "  'y_train': data['y_train'][:num_train],\n",
    "  'X_val': data['X_val'],\n",
    "  'y_val': data['y_val'],\n",
    "}\n",
    "\n",
    "solvers = {}\n",
    "dropout_choices = [0, 0.75]\n",
    "for dropout in dropout_choices:\n",
    "  model = FullyConnectedNet([500], dropout=dropout)\n",
    "  print(dropout)\n",
    "\n",
    "  solver = Solver(model, small_data,\n",
    "                  num_epochs=80, batch_size=100,\n",
    "                  update_rule='adam',\n",
    "                  optim_config={\n",
    "                    'learning_rate': 5e-4,\n",
    "                  },\n",
    "                  verbose=True, print_every=100)\n",
    "  solver.train()\n",
    "  solvers[dropout] = solver"
   ]
  },
  {
   "cell_type": "code",
   "execution_count": 18,
   "metadata": {},
   "outputs": [
    {
     "data": {
      "image/png": "[encoded data removed]",
      "text/plain": [
       "<Figure size 1080x1080 with 2 Axes>"
      ]
     },
     "metadata": {
      "needs_background": "light"
     },
     "output_type": "display_data"
    }
   ],
   "source": [
    "# Plot train and validation accuracies of the two models\n",
    "\n",
    "train_accs = []\n",
    "val_accs = []\n",
    "for dropout in dropout_choices:\n",
    "  solver = solvers[dropout]\n",
    "  train_accs.append(solver.train_acc_history[-1])\n",
    "  val_accs.append(solver.val_acc_history[-1])\n",
    "\n",
    "plt.subplot(3, 1, 1)\n",
    "for dropout in dropout_choices:\n",
    "  plt.plot(solvers[dropout].train_acc_history, 'o', label='%.2f dropout' % dropout)\n",
    "plt.title('Train accuracy')\n",
    "plt.xlabel('Epoch')\n",
    "plt.ylabel('Accuracy')\n",
    "plt.legend(ncol=2, loc='lower right')\n",
    "  \n",
    "plt.subplot(3, 1, 2)\n",
    "for dropout in dropout_choices:\n",
    "  plt.plot(solvers[dropout].val_acc_history, 'o', label='%.2f dropout' % dropout)\n",
    "plt.title('Val accuracy')\n",
    "plt.xlabel('Epoch')\n",
    "plt.ylabel('Accuracy')\n",
    "plt.legend(ncol=2, loc='lower right')\n",
    "\n",
    "plt.gcf().set_size_inches(15, 15)\n",
    "plt.show()"
   ]
  },
  {
   "cell_type": "markdown",
   "metadata": {},
   "source": [
    "# Question\n",
    "Explain what you see in this experiment. What does it suggest about dropout?"
   ]
  },
  {
   "cell_type": "markdown",
   "metadata": {},
   "source": [
    "# Answer\n",
    "In training, both with dropout and without dropout can get 100% accuracy.\n",
    "But in validation, using default num_epochs = 50, the two outputs are similar. So I increase the num_epochs to 80, the different is obvious: with dropout ,the val accuracy is higer. So dropout works as a kind of regularization and can prevent overfitting."
   ]
  }
 ],
 "metadata": {
  "kernelspec": {
   "display_name": "Python 3",
   "language": "python",
   "name": "python3"
  },
  "language_info": {
   "codemirror_mode": {
    "name": "ipython",
    "version": 3
   },
   "file_extension": ".py",
   "mimetype": "text/x-python",
   "name": "python",
   "nbconvert_exporter": "python",
   "pygments_lexer": "ipython3",
   "version": "3.7.3"
  }
 },
 "nbformat": 4,
 "nbformat_minor": 1
}
